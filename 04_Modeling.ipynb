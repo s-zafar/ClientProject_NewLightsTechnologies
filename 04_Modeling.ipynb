{
 "cells": [
  {
   "cell_type": "code",
   "execution_count": 48,
   "metadata": {},
   "outputs": [],
   "source": [
    "# Import libraries\n",
    "import pandas as pd\n",
    "import numpy as np\n",
    "import nltk\n",
    "\n",
    "# Machine learning relevant libraries\n",
    "from sklearn.multiclass import OneVsRestClassifier\n",
    "from sklearn.model_selection import StratifiedShuffleSplit,GroupShuffleSplit\n",
    "from sklearn.linear_model import LogisticRegression\n",
    "from sklearn.cluster import KMeans\n",
    "from sklearn.pipeline import Pipeline\n",
    "from sklearn.feature_extraction.text import TfidfVectorizer, CountVectorizer\n",
    "from nltk.stem import WordNetLemmatizer\n",
    "from sklearn.model_selection import train_test_split, GridSearchCV\n",
    "from sklearn.svm import SVC\n",
    "from sklearn.preprocessing import StandardScaler"
   ]
  },
  {
   "cell_type": "code",
   "execution_count": 49,
   "metadata": {},
   "outputs": [],
   "source": [
    "# Reading in the compiled csv of all different tweets\n",
    "df = pd.read_csv('./data/all_disaster_tweets.csv')"
   ]
  },
  {
   "cell_type": "code",
   "execution_count": 50,
   "metadata": {},
   "outputs": [
    {
     "data": {
      "text/html": [
       "<div>\n",
       "<style scoped>\n",
       "    .dataframe tbody tr th:only-of-type {\n",
       "        vertical-align: middle;\n",
       "    }\n",
       "\n",
       "    .dataframe tbody tr th {\n",
       "        vertical-align: top;\n",
       "    }\n",
       "\n",
       "    .dataframe thead th {\n",
       "        text-align: right;\n",
       "    }\n",
       "</style>\n",
       "<table border=\"1\" class=\"dataframe\">\n",
       "  <thead>\n",
       "    <tr style=\"text-align: right;\">\n",
       "      <th></th>\n",
       "      <th>tweet text</th>\n",
       "      <th>disaster type</th>\n",
       "    </tr>\n",
       "  </thead>\n",
       "  <tbody>\n",
       "    <tr>\n",
       "      <td>0</td>\n",
       "      <td>HOY es nuestro dia @Maria_21_music  #nerea #an...</td>\n",
       "      <td>99.0</td>\n",
       "    </tr>\n",
       "    <tr>\n",
       "      <td>1</td>\n",
       "      <td>Yeahh yeahh esa jenga @alejandroalija @Telarer...</td>\n",
       "      <td>99.0</td>\n",
       "    </tr>\n",
       "    <tr>\n",
       "      <td>2</td>\n",
       "      <td>a Mãe do meu amigo #Pablo. morreu :( ta muito ...</td>\n",
       "      <td>99.0</td>\n",
       "    </tr>\n",
       "    <tr>\n",
       "      <td>3</td>\n",
       "      <td>Madrinas y apadrinados #SantaCecilia2012 @Carm...</td>\n",
       "      <td>99.0</td>\n",
       "    </tr>\n",
       "    <tr>\n",
       "      <td>4</td>\n",
       "      <td>11-26-12 | E-Games Attendant | Chada Bingo Hou...</td>\n",
       "      <td>99.0</td>\n",
       "    </tr>\n",
       "  </tbody>\n",
       "</table>\n",
       "</div>"
      ],
      "text/plain": [
       "                                          tweet text  disaster type\n",
       "0  HOY es nuestro dia @Maria_21_music  #nerea #an...           99.0\n",
       "1  Yeahh yeahh esa jenga @alejandroalija @Telarer...           99.0\n",
       "2  a Mãe do meu amigo #Pablo. morreu :( ta muito ...           99.0\n",
       "3  Madrinas y apadrinados #SantaCecilia2012 @Carm...           99.0\n",
       "4  11-26-12 | E-Games Attendant | Chada Bingo Hou...           99.0"
      ]
     },
     "execution_count": 50,
     "metadata": {},
     "output_type": "execute_result"
    }
   ],
   "source": [
    "# Show the data\n",
    "df.head()"
   ]
  },
  {
   "cell_type": "code",
   "execution_count": 51,
   "metadata": {},
   "outputs": [
    {
     "data": {
      "text/plain": [
       "tweet text        0\n",
       "disaster type    10\n",
       "dtype: int64"
      ]
     },
     "execution_count": 51,
     "metadata": {},
     "output_type": "execute_result"
    }
   ],
   "source": [
    "# Check for nulls\n",
    "df.isnull().sum()"
   ]
  },
  {
   "cell_type": "code",
   "execution_count": 52,
   "metadata": {},
   "outputs": [],
   "source": [
    "# Dropping NaNs\n",
    "df.dropna(inplace=True)"
   ]
  },
  {
   "cell_type": "code",
   "execution_count": 53,
   "metadata": {},
   "outputs": [],
   "source": [
    "# Turn all the tweets into lowercase before vectorization\n",
    "df['tweet text'] = df['tweet text'].apply(lambda x: x.lower())"
   ]
  },
  {
   "cell_type": "code",
   "execution_count": 54,
   "metadata": {},
   "outputs": [],
   "source": [
    "# Creating a column identifying floods and no floods to create a one-class classifier\n",
    "df['flood'] = df['disaster type'].apply(lambda x: 1 if x == 4 else 0)"
   ]
  },
  {
   "cell_type": "code",
   "execution_count": 55,
   "metadata": {},
   "outputs": [],
   "source": [
    "# Creating the X and y lists before splitting\n",
    "X = df['tweet text']\n",
    "y = df['flood']"
   ]
  },
  {
   "cell_type": "code",
   "execution_count": 56,
   "metadata": {},
   "outputs": [],
   "source": [
    "# Train test split for single classifier\n",
    "X_train, X_test, y_train, y_test = train_test_split(X, y, stratify=y, random_state = 42)"
   ]
  },
  {
   "cell_type": "code",
   "execution_count": 57,
   "metadata": {},
   "outputs": [],
   "source": [
    "# Pipeline for single classifier\n",
    "pipe1 = Pipeline([\n",
    "    \n",
    "    ('cvec',CountVectorizer()),\n",
    "    ('lr',LogisticRegression(penalty = 'l2', solver='liblinear', random_state = 42))\n",
    "    \n",
    "])\n",
    "\n",
    "pipe1_params = {\n",
    "    \n",
    "    'cvec__max_features': [2000],\n",
    "    'cvec__lowercase': [True],\n",
    "    'cvec__stop_words': ['english'],\n",
    "    'cvec__ngram_range': [(1, 1),(1, 2)],\n",
    "    \n",
    "}"
   ]
  },
  {
   "cell_type": "code",
   "execution_count": 58,
   "metadata": {},
   "outputs": [],
   "source": [
    "# Grid searching for single classifier\n",
    "gs1 = GridSearchCV(pipe1,\n",
    "                  pipe1_params,\n",
    "                  cv=3,\n",
    "                  return_train_score=True) "
   ]
  },
  {
   "cell_type": "code",
   "execution_count": 59,
   "metadata": {},
   "outputs": [],
   "source": [
    "# Fit the model\n",
    "gs1.fit(X_train, y_train);"
   ]
  },
  {
   "cell_type": "code",
   "execution_count": 60,
   "metadata": {},
   "outputs": [
    {
     "data": {
      "text/plain": [
       "{'cvec__lowercase': True,\n",
       " 'cvec__max_features': 2000,\n",
       " 'cvec__ngram_range': (1, 1),\n",
       " 'cvec__stop_words': 'english'}"
      ]
     },
     "execution_count": 60,
     "metadata": {},
     "output_type": "execute_result"
    }
   ],
   "source": [
    "# Find the best parameters\n",
    "gs1.best_params_"
   ]
  },
  {
   "cell_type": "code",
   "execution_count": 61,
   "metadata": {},
   "outputs": [
    {
     "name": "stdout",
     "output_type": "stream",
     "text": [
      "CVEC/LR Training Score: 0.9874934364408803\n"
     ]
    }
   ],
   "source": [
    "# Score the training data\n",
    "print(f'CVEC/LR Training Score: {gs1.score(X_train, y_train)}')"
   ]
  },
  {
   "cell_type": "code",
   "execution_count": 62,
   "metadata": {},
   "outputs": [
    {
     "name": "stdout",
     "output_type": "stream",
     "text": [
      "CVEC/LR Testing Score: 0.9785223367697594\n"
     ]
    }
   ],
   "source": [
    "# Score the testing data\n",
    "print(f'CVEC/LR Testing Score: {gs1.score(X_test, y_test)}')"
   ]
  },
  {
   "cell_type": "markdown",
   "metadata": {},
   "source": [
    "### 1) Multiclass Classification with 5 Disaster Types"
   ]
  },
  {
   "cell_type": "code",
   "execution_count": 63,
   "metadata": {},
   "outputs": [],
   "source": [
    "# Creating the y vairable as a vector of different disaster types\n",
    "y_multi = df['disaster type']"
   ]
  },
  {
   "cell_type": "code",
   "execution_count": 64,
   "metadata": {},
   "outputs": [],
   "source": [
    "# Split the data into training and testing sets\n",
    "X_train, X_test, y_train, y_test = train_test_split(X, y_multi, random_state = 42, stratify = y_multi)"
   ]
  },
  {
   "cell_type": "code",
   "execution_count": 65,
   "metadata": {},
   "outputs": [],
   "source": [
    "# Establish a pipeline to vectorize and classify the text data\n",
    "pipe2 = Pipeline([\n",
    "    \n",
    "    ('cvec',CountVectorizer()),\n",
    "    ('multi',OneVsRestClassifier(LogisticRegression(C = 0.01, penalty = 'l2', solver='liblinear', random_state = 42)))\n",
    "    \n",
    "])\n",
    "\n",
    "# Parameter dictionary to use for gridsearching\n",
    "pipe2_params = {\n",
    "    \n",
    "    'cvec__max_features':[4000],\n",
    "    'cvec__lowercase':[True],\n",
    "    'cvec__stop_words':['english'],\n",
    "    'cvec__ngram_range':[(1, 1),(1, 2)]\n",
    "    \n",
    "}"
   ]
  },
  {
   "cell_type": "code",
   "execution_count": 66,
   "metadata": {},
   "outputs": [],
   "source": [
    "# Gridsearch over the parameter dictionary associated with the above pipeline\n",
    "gs2 = GridSearchCV(pipe2,\n",
    "                  pipe2_params,\n",
    "                  cv=3,\n",
    "                  return_train_score=True) "
   ]
  },
  {
   "cell_type": "code",
   "execution_count": 67,
   "metadata": {},
   "outputs": [],
   "source": [
    "# Fit the model\n",
    "gs2.fit(X_train, y_train);"
   ]
  },
  {
   "cell_type": "code",
   "execution_count": 68,
   "metadata": {},
   "outputs": [
    {
     "data": {
      "text/plain": [
       "{'cvec__lowercase': True,\n",
       " 'cvec__max_features': 4000,\n",
       " 'cvec__ngram_range': (1, 2),\n",
       " 'cvec__stop_words': 'english'}"
      ]
     },
     "execution_count": 68,
     "metadata": {},
     "output_type": "execute_result"
    }
   ],
   "source": [
    "# Find the best model parameters\n",
    "gs2.best_params_"
   ]
  },
  {
   "cell_type": "code",
   "execution_count": 69,
   "metadata": {},
   "outputs": [
    {
     "name": "stdout",
     "output_type": "stream",
     "text": [
      "CVEC/OVR Training Score: 0.8830493102296052\n"
     ]
    }
   ],
   "source": [
    "# Find the training score\n",
    "print(f'CVEC/OVR Training Score: {gs2.score(X_train, y_train)}')"
   ]
  },
  {
   "cell_type": "code",
   "execution_count": 70,
   "metadata": {},
   "outputs": [
    {
     "name": "stdout",
     "output_type": "stream",
     "text": [
      "CVEC/OVR Testing Score: 0.877290950744559\n"
     ]
    }
   ],
   "source": [
    "# Find the testing score\n",
    "print(f'CVEC/OVR Testing Score: {gs2.score(X_test, y_test)}')"
   ]
  },
  {
   "cell_type": "code",
   "execution_count": 71,
   "metadata": {},
   "outputs": [],
   "source": [
    "# Generate predictions\n",
    "preds = gs2.predict(X_test)"
   ]
  },
  {
   "cell_type": "code",
   "execution_count": 72,
   "metadata": {},
   "outputs": [],
   "source": [
    "# Create testing DataFrame\n",
    "df_test = df.loc[list(X_test.index),:]"
   ]
  },
  {
   "cell_type": "code",
   "execution_count": 73,
   "metadata": {},
   "outputs": [],
   "source": [
    "# Creating a dataframe with predicted disaster type from our multiclass classifier\n",
    "df_test['preds disaster type'] = preds"
   ]
  },
  {
   "cell_type": "code",
   "execution_count": 74,
   "metadata": {},
   "outputs": [
    {
     "data": {
      "text/html": [
       "<div>\n",
       "<style scoped>\n",
       "    .dataframe tbody tr th:only-of-type {\n",
       "        vertical-align: middle;\n",
       "    }\n",
       "\n",
       "    .dataframe tbody tr th {\n",
       "        vertical-align: top;\n",
       "    }\n",
       "\n",
       "    .dataframe thead th {\n",
       "        text-align: right;\n",
       "    }\n",
       "</style>\n",
       "<table border=\"1\" class=\"dataframe\">\n",
       "  <thead>\n",
       "    <tr style=\"text-align: right;\">\n",
       "      <th></th>\n",
       "      <th>tweet text</th>\n",
       "      <th>disaster type</th>\n",
       "      <th>preds disaster type</th>\n",
       "    </tr>\n",
       "  </thead>\n",
       "  <tbody>\n",
       "    <tr>\n",
       "      <td>17640</td>\n",
       "      <td>rt @examinedisaster: @nasa releases stunning b...</td>\n",
       "      <td>0.0</td>\n",
       "      <td>0.0</td>\n",
       "    </tr>\n",
       "    <tr>\n",
       "      <td>3005</td>\n",
       "      <td>dramatic details emerge of lax rampage targeti...</td>\n",
       "      <td>3.0</td>\n",
       "      <td>3.0</td>\n",
       "    </tr>\n",
       "    <tr>\n",
       "      <td>16996</td>\n",
       "      <td>rt @estebangerbasi: un terrorista italiano es ...</td>\n",
       "      <td>3.0</td>\n",
       "      <td>3.0</td>\n",
       "    </tr>\n",
       "    <tr>\n",
       "      <td>1687</td>\n",
       "      <td>photo: kirsty nelis, reported locally as polic...</td>\n",
       "      <td>3.0</td>\n",
       "      <td>3.0</td>\n",
       "    </tr>\n",
       "    <tr>\n",
       "      <td>20253</td>\n",
       "      <td>deadly building collapse in bangladesh  http:/...</td>\n",
       "      <td>3.0</td>\n",
       "      <td>3.0</td>\n",
       "    </tr>\n",
       "    <tr>\n",
       "      <td>...</td>\n",
       "      <td>...</td>\n",
       "      <td>...</td>\n",
       "      <td>...</td>\n",
       "    </tr>\n",
       "    <tr>\n",
       "      <td>10676</td>\n",
       "      <td>colorado digs out after 'biblical' flooding: c...</td>\n",
       "      <td>4.0</td>\n",
       "      <td>4.0</td>\n",
       "    </tr>\n",
       "    <tr>\n",
       "      <td>1811</td>\n",
       "      <td>nasty katie hopkins apologises after making cr...</td>\n",
       "      <td>3.0</td>\n",
       "      <td>3.0</td>\n",
       "    </tr>\n",
       "    <tr>\n",
       "      <td>2006</td>\n",
       "      <td>rt @cloydrivers: bad day? 6 troops in afghanis...</td>\n",
       "      <td>99.0</td>\n",
       "      <td>3.0</td>\n",
       "    </tr>\n",
       "    <tr>\n",
       "      <td>19090</td>\n",
       "      <td>rt @fasnouvelles: vous avez des livres à donne...</td>\n",
       "      <td>3.0</td>\n",
       "      <td>3.0</td>\n",
       "    </tr>\n",
       "    <tr>\n",
       "      <td>26063</td>\n",
       "      <td>rt @ellendatlow: re: metro north derailment:jf...</td>\n",
       "      <td>3.0</td>\n",
       "      <td>3.0</td>\n",
       "    </tr>\n",
       "  </tbody>\n",
       "</table>\n",
       "<p>6984 rows × 3 columns</p>\n",
       "</div>"
      ],
      "text/plain": [
       "                                              tweet text  disaster type  \\\n",
       "17640  rt @examinedisaster: @nasa releases stunning b...            0.0   \n",
       "3005   dramatic details emerge of lax rampage targeti...            3.0   \n",
       "16996  rt @estebangerbasi: un terrorista italiano es ...            3.0   \n",
       "1687   photo: kirsty nelis, reported locally as polic...            3.0   \n",
       "20253  deadly building collapse in bangladesh  http:/...            3.0   \n",
       "...                                                  ...            ...   \n",
       "10676  colorado digs out after 'biblical' flooding: c...            4.0   \n",
       "1811   nasty katie hopkins apologises after making cr...            3.0   \n",
       "2006   rt @cloydrivers: bad day? 6 troops in afghanis...           99.0   \n",
       "19090  rt @fasnouvelles: vous avez des livres à donne...            3.0   \n",
       "26063  rt @ellendatlow: re: metro north derailment:jf...            3.0   \n",
       "\n",
       "       preds disaster type  \n",
       "17640                  0.0  \n",
       "3005                   3.0  \n",
       "16996                  3.0  \n",
       "1687                   3.0  \n",
       "20253                  3.0  \n",
       "...                    ...  \n",
       "10676                  4.0  \n",
       "1811                   3.0  \n",
       "2006                   3.0  \n",
       "19090                  3.0  \n",
       "26063                  3.0  \n",
       "\n",
       "[6984 rows x 3 columns]"
      ]
     },
     "execution_count": 74,
     "metadata": {},
     "output_type": "execute_result"
    }
   ],
   "source": [
    "# Select tweet text, disaster type and predictions\n",
    "df_test[['tweet text','disaster type','preds disaster type']]"
   ]
  },
  {
   "cell_type": "markdown",
   "metadata": {},
   "source": [
    "### 2) Multiclass Classification Performed on Wildfire Tweets"
   ]
  },
  {
   "cell_type": "code",
   "execution_count": 75,
   "metadata": {},
   "outputs": [],
   "source": [
    "# Reading in the dataframe of tweets from california\n",
    "df_fire = pd.read_csv('./data/firetweets_clean.csv')\n",
    "#df_fire = df_fire[['message']].rename({'message':'tweet'}, axis = 1)"
   ]
  },
  {
   "cell_type": "code",
   "execution_count": 76,
   "metadata": {},
   "outputs": [
    {
     "data": {
      "text/html": [
       "<div>\n",
       "<style scoped>\n",
       "    .dataframe tbody tr th:only-of-type {\n",
       "        vertical-align: middle;\n",
       "    }\n",
       "\n",
       "    .dataframe tbody tr th {\n",
       "        vertical-align: top;\n",
       "    }\n",
       "\n",
       "    .dataframe thead th {\n",
       "        text-align: right;\n",
       "    }\n",
       "</style>\n",
       "<table border=\"1\" class=\"dataframe\">\n",
       "  <thead>\n",
       "    <tr style=\"text-align: right;\">\n",
       "      <th></th>\n",
       "      <th>tweet text</th>\n",
       "      <th>disaster type</th>\n",
       "    </tr>\n",
       "  </thead>\n",
       "  <tbody>\n",
       "    <tr>\n",
       "      <td>0</td>\n",
       "      <td>california #artist danielle nelisse paints #ab...</td>\n",
       "      <td>0</td>\n",
       "    </tr>\n",
       "    <tr>\n",
       "      <td>1</td>\n",
       "      <td>many low income people lost homes baja califor...</td>\n",
       "      <td>0</td>\n",
       "    </tr>\n",
       "    <tr>\n",
       "      <td>2</td>\n",
       "      <td>rt epochtimes get act together governor see cl...</td>\n",
       "      <td>0</td>\n",
       "    </tr>\n",
       "    <tr>\n",
       "      <td>3</td>\n",
       "      <td>rt epochtimes get act together governor see cl...</td>\n",
       "      <td>0</td>\n",
       "    </tr>\n",
       "    <tr>\n",
       "      <td>4</td>\n",
       "      <td>yikes https co gs vp hh #wildfires #africa</td>\n",
       "      <td>0</td>\n",
       "    </tr>\n",
       "  </tbody>\n",
       "</table>\n",
       "</div>"
      ],
      "text/plain": [
       "                                          tweet text  disaster type\n",
       "0  california #artist danielle nelisse paints #ab...              0\n",
       "1  many low income people lost homes baja califor...              0\n",
       "2  rt epochtimes get act together governor see cl...              0\n",
       "3  rt epochtimes get act together governor see cl...              0\n",
       "4         yikes https co gs vp hh #wildfires #africa              0"
      ]
     },
     "execution_count": 76,
     "metadata": {},
     "output_type": "execute_result"
    }
   ],
   "source": [
    "# Display data\n",
    "df_fire.head()"
   ]
  },
  {
   "cell_type": "code",
   "execution_count": 77,
   "metadata": {},
   "outputs": [
    {
     "data": {
      "text/plain": [
       "(6260, 2)"
      ]
     },
     "execution_count": 77,
     "metadata": {},
     "output_type": "execute_result"
    }
   ],
   "source": [
    "# Get shape of firetweets\n",
    "df_fire.shape"
   ]
  },
  {
   "cell_type": "markdown",
   "metadata": {},
   "source": [
    "##### 55.40% of the tweets were duplicates and we dropped them"
   ]
  },
  {
   "cell_type": "code",
   "execution_count": 78,
   "metadata": {},
   "outputs": [
    {
     "data": {
      "text/plain": [
       "(2792, 2)"
      ]
     },
     "execution_count": 78,
     "metadata": {},
     "output_type": "execute_result"
    }
   ],
   "source": [
    "# There are many repetitive tweets, so let us drop and keep one\n",
    "df_fire.drop_duplicates(subset='tweet text', keep='first', inplace=True)\n",
    "df_fire.shape"
   ]
  },
  {
   "cell_type": "code",
   "execution_count": 79,
   "metadata": {},
   "outputs": [],
   "source": [
    "# Changing all tweets to lowercase\n",
    "df_fire['tweet text'] = df_fire['tweet text'].apply(lambda x: x.lower())"
   ]
  },
  {
   "cell_type": "code",
   "execution_count": 80,
   "metadata": {},
   "outputs": [],
   "source": [
    "# Fitting the multiclass classifier model to the wildfire tweets\n",
    "df_fire['predicted_disaster_type'] = gs2.predict(df_fire['tweet text'])"
   ]
  },
  {
   "cell_type": "code",
   "execution_count": 81,
   "metadata": {},
   "outputs": [
    {
     "data": {
      "text/plain": [
       "3.0     0.394699\n",
       "0.0     0.263610\n",
       "4.0     0.202364\n",
       "99.0    0.136819\n",
       "5.0     0.002149\n",
       "2.0     0.000358\n",
       "Name: predicted_disaster_type, dtype: float64"
      ]
     },
     "execution_count": 81,
     "metadata": {},
     "output_type": "execute_result"
    }
   ],
   "source": [
    "# Percentage of tweets based on category\n",
    "df_fire['predicted_disaster_type'].value_counts(normalize=True)"
   ]
  },
  {
   "cell_type": "markdown",
   "metadata": {},
   "source": [
    "##### There are no type 1 and only one type 2 disaster, which according to our dictionary is cyclones/hurricanes and earthquakes respectively"
   ]
  },
  {
   "cell_type": "code",
   "execution_count": 82,
   "metadata": {},
   "outputs": [
    {
     "name": "stdout",
     "output_type": "stream",
     "text": [
      "\n",
      "#russia love california dreaming president donald trump seems willing help russia fight wi https co fy izy xqq\n",
      "\n",
      "#president fight #california #wildfires rush help #campaign bankroll #russia https co bjqljwmtaj\n",
      "\n",
      "#resisters remember #trump offered hel #russia fight #wildfires denies help american citiz https co bwtbtpofqw\n",
      "\n",
      "rt ajstream bad year #wildfires globally past months parts lebanon turkey russia france greece\n",
      "\n",
      "bad year #wildfires globally past months parts lebanon turkey russia france https co xyvwcgfuqh\n",
      "\n",
      "rt benjonespiced mesmerising image kentphotos via ap meteor streaks across sky gusty winds create ember cast val\n"
     ]
    }
   ],
   "source": [
    "# Exploring tweets from different categories\n",
    "for tweet in df_fire[df_fire['predicted_disaster_type'] == 5]['tweet text']:\n",
    "    print()\n",
    "    print(tweet)"
   ]
  },
  {
   "cell_type": "markdown",
   "metadata": {},
   "source": [
    "### Unsupervised clustering to increase dimensions"
   ]
  },
  {
   "cell_type": "code",
   "execution_count": 83,
   "metadata": {},
   "outputs": [],
   "source": [
    "# Perform a train test split\n",
    "X_train, X_test, y_train, y_test = train_test_split(X, y_multi, random_state = 42, stratify = y_multi)"
   ]
  },
  {
   "cell_type": "code",
   "execution_count": 84,
   "metadata": {},
   "outputs": [],
   "source": [
    "# Instantiating a KMeans clustering algorithm\n",
    "km = KMeans(n_clusters=5)"
   ]
  },
  {
   "cell_type": "code",
   "execution_count": 85,
   "metadata": {},
   "outputs": [],
   "source": [
    "# Vectorizing the training and testing tweets\n",
    "cvec= CountVectorizer(lowercase=True,stop_words='english',max_features=4000)\n",
    "\n",
    "# Creating vectorized model variables\n",
    "X_train_vec = cvec.fit_transform(X_train)\n",
    "X_test_vec = cvec.transform(X_test)"
   ]
  },
  {
   "cell_type": "code",
   "execution_count": 86,
   "metadata": {},
   "outputs": [],
   "source": [
    "# Standardizing the vectorized training data\n",
    "sc = StandardScaler()\n",
    "\n",
    "# Transformed the testing data\n",
    "X_train_vec = sc.fit_transform(X_train_vec.toarray())\n",
    "X_test_vec = sc.transform(X_test_vec.toarray())"
   ]
  },
  {
   "cell_type": "code",
   "execution_count": 87,
   "metadata": {},
   "outputs": [],
   "source": [
    "# Create DataFrames for the vectorized training and testing data\n",
    "df_Xvec_train = pd.DataFrame(X_train_vec)\n",
    "df_Xvec_test = pd.DataFrame(X_test_vec)"
   ]
  },
  {
   "cell_type": "code",
   "execution_count": 88,
   "metadata": {},
   "outputs": [
    {
     "data": {
      "text/plain": [
       "KMeans(algorithm='auto', copy_x=True, init='k-means++', max_iter=300,\n",
       "       n_clusters=5, n_init=10, n_jobs=None, precompute_distances='auto',\n",
       "       random_state=None, tol=0.0001, verbose=0)"
      ]
     },
     "execution_count": 88,
     "metadata": {},
     "output_type": "execute_result"
    }
   ],
   "source": [
    "# Fitting the clustering model on the training set\n",
    "km.fit(X_train_vec)"
   ]
  },
  {
   "cell_type": "code",
   "execution_count": 89,
   "metadata": {},
   "outputs": [],
   "source": [
    "# Adding the cluster labels to the dataframes\n",
    "df_Xvec_train['cluster'] = km.predict(X_train_vec)\n",
    "df_Xvec_test['cluster'] = km.predict(X_test_vec)"
   ]
  },
  {
   "cell_type": "code",
   "execution_count": 90,
   "metadata": {},
   "outputs": [
    {
     "data": {
      "text/plain": [
       "array([0, 2, 4, 1, 3], dtype=int64)"
      ]
     },
     "execution_count": 90,
     "metadata": {},
     "output_type": "execute_result"
    }
   ],
   "source": [
    "df_Xvec_train['cluster'].unique()"
   ]
  },
  {
   "cell_type": "code",
   "execution_count": 91,
   "metadata": {},
   "outputs": [
    {
     "data": {
      "text/plain": [
       "array([0, 1, 2, 4, 3], dtype=int64)"
      ]
     },
     "execution_count": 91,
     "metadata": {},
     "output_type": "execute_result"
    }
   ],
   "source": [
    "df_Xvec_test['cluster'].unique()"
   ]
  },
  {
   "cell_type": "code",
   "execution_count": 92,
   "metadata": {},
   "outputs": [],
   "source": [
    "# # Using One Hot Encoder to dummify such that number of categories remain same\n",
    "# # No need to do dummy if using OHE\n",
    "# ohe = OneHotEncoder(categories='auto')\n",
    "\n",
    "# ohe.fit(df_Xvec_train[['cluster']])\n",
    "\n",
    "# df_Xvec_train = df_Xvec_train.merge(pd.DataFrame(ohe.transform(df_Xvec_train[['cluster']]).toarray()), left_index=True, right_index=True).drop(columns=['cluster'])\n",
    "# df_Xvec_test = df_Xvec_test.merge(pd.DataFrame(ohe.transform(df_Xvec_test[['cluster']]).toarray()), left_index=True, right_index=True).drop(columns=['cluster'])"
   ]
  },
  {
   "cell_type": "code",
   "execution_count": 93,
   "metadata": {},
   "outputs": [],
   "source": [
    "# Dummy the training and testing cluster columns\n",
    "df_Xvec_train = pd.get_dummies(df_Xvec_train, columns=['cluster'], drop_first=True)\n",
    "df_Xvec_test = pd.get_dummies(df_Xvec_test, columns=['cluster'], drop_first=True)"
   ]
  },
  {
   "cell_type": "code",
   "execution_count": 94,
   "metadata": {},
   "outputs": [
    {
     "data": {
      "text/plain": [
       "OneVsRestClassifier(estimator=LogisticRegression(C=0.001, class_weight=None,\n",
       "                                                 dual=False, fit_intercept=True,\n",
       "                                                 intercept_scaling=1,\n",
       "                                                 l1_ratio=None, max_iter=100,\n",
       "                                                 multi_class='warn',\n",
       "                                                 n_jobs=None, penalty='l2',\n",
       "                                                 random_state=42,\n",
       "                                                 solver='liblinear', tol=0.0001,\n",
       "                                                 verbose=0, warm_start=False),\n",
       "                    n_jobs=None)"
      ]
     },
     "execution_count": 94,
     "metadata": {},
     "output_type": "execute_result"
    }
   ],
   "source": [
    "# Fititng a multi class logisitic regression model\n",
    "multi_model = OneVsRestClassifier(LogisticRegression(C=0.001 ,penalty = 'l2', solver='liblinear', random_state = 42))\n",
    "multi_model.fit(df_Xvec_train, y_train)"
   ]
  },
  {
   "cell_type": "code",
   "execution_count": 95,
   "metadata": {},
   "outputs": [
    {
     "data": {
      "text/plain": [
       "0.9539834836985059"
      ]
     },
     "execution_count": 95,
     "metadata": {},
     "output_type": "execute_result"
    }
   ],
   "source": [
    "# Training score\n",
    "multi_model.score(df_Xvec_train, y_train)"
   ]
  },
  {
   "cell_type": "code",
   "execution_count": 97,
   "metadata": {},
   "outputs": [
    {
     "data": {
      "text/plain": [
       "0.9199599083619702"
      ]
     },
     "execution_count": 97,
     "metadata": {},
     "output_type": "execute_result"
    }
   ],
   "source": [
    "# Testing score\n",
    "multi_model.score(df_Xvec_test, y_test)"
   ]
  },
  {
   "cell_type": "code",
   "execution_count": null,
   "metadata": {},
   "outputs": [],
   "source": []
  }
 ],
 "metadata": {
  "kernelspec": {
   "display_name": "Python 3",
   "language": "python",
   "name": "python3"
  },
  "language_info": {
   "codemirror_mode": {
    "name": "ipython",
    "version": 3
   },
   "file_extension": ".py",
   "mimetype": "text/x-python",
   "name": "python",
   "nbconvert_exporter": "python",
   "pygments_lexer": "ipython3",
   "version": "3.7.3"
  }
 },
 "nbformat": 4,
 "nbformat_minor": 2
}
