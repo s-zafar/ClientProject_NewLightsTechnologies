{
 "cells": [
  {
   "cell_type": "code",
   "execution_count": 2,
   "metadata": {},
   "outputs": [],
   "source": [
    "#pip install tweepy==3.8.0\n",
    "#!pip install pylast"
   ]
  },
  {
   "cell_type": "code",
   "execution_count": 3,
   "metadata": {},
   "outputs": [],
   "source": [
    "# Imports\n",
    "import tweepy\n",
    "from tweepy import OAuthHandler\n",
    "from tweepy import Stream\n",
    "from tweepy.streaming import StreamListener\n",
    "\n",
    "import numpy as np\n",
    "import pandas as pd\n",
    "import csv\n",
    "\n",
    "import json\n",
    "import sys\n",
    "sys.setrecursionlimit(1500)\n",
    "\n",
    "from IPython.core.display import HTML\n",
    "import pylast"
   ]
  },
  {
   "cell_type": "code",
   "execution_count": 4,
   "metadata": {},
   "outputs": [],
   "source": [
    "# Build credentials dictionary; Credentials are now saved in twitter_credentials.json\n",
    "credentials = {}\n",
    "\n",
    "credentials['consumer_key'] = 'consumer_key'\n",
    "credentials['consumer_secret'] = 'consumer_key'\n",
    "credentials['access_token'] = 'access_token'\n",
    "credentials['access_secret'] = 'access_secret'\n",
    "\n",
    "# Write credentials to file\n",
    "with open(\"twitter_credentials.json\", \"w\") as file:\n",
    "    json.dump(credentials, file)\n",
    "\n",
    "# Read credentials from file\n",
    "twit_cred_file = open('twitter_credentials.json', 'r')\n",
    "twitter_credentials = json.loads(twit_cred_file.read())"
   ]
  },
  {
   "cell_type": "code",
   "execution_count": 5,
   "metadata": {},
   "outputs": [],
   "source": [
    "auth = OAuthHandler(twitter_credentials['consumer_key'], twitter_credentials['consumer_secret'])\n",
    "auth.set_access_token(twitter_credentials['access_token'], twitter_credentials['access_secret'])\n",
    " \n",
    "api = tweepy.API(auth)"
   ]
  },
  {
   "cell_type": "code",
   "execution_count": 6,
   "metadata": {},
   "outputs": [],
   "source": [
    "# Save Tweets directly into DataFrame\n",
    "df = pd.DataFrame({})\n",
    "\n",
    "# Define a class that will pull tweets\n",
    "class StreamListener(tweepy.StreamListener):\n",
    "    \n",
    "    # Method defined in order to append tweets to a Pandas DataFrame\n",
    "    def on_status(self, status):\n",
    "        \n",
    "        # If location data was enabled by the user\n",
    "        if status.user.location is not None:\n",
    "            \n",
    "            # Allow dataframe changes outside the scope of this function\n",
    "            global df\n",
    "            \n",
    "            # Append text and location data to a row in the dictionary without the index\n",
    "            df = df.append({'text': status.text, 'location': status.user.location}, ignore_index=True)\n",
    "            \n",
    "            # Print the tweet text, status is the name ascribed to a Tweet\n",
    "            print(status.text)\n",
    "            \n",
    "    # Define a method that will catch when too many tweets have been requested of Twitter\n",
    "    # \"Enhance Your Calm\" error\n",
    "    def on_error(self, status_code):\n",
    "        \n",
    "        # Check to see if the status code is equal to 420\n",
    "        if status_code == 420:\n",
    "            \n",
    "            # Returns false if this is the case\n",
    "            return False"
   ]
  },
  {
   "cell_type": "code",
   "execution_count": 7,
   "metadata": {},
   "outputs": [],
   "source": [
    "# Instantiate the StreamListener class\n",
    "disaster_listener = StreamListener()\n",
    "\n",
    "# Create a stream object using Tweepy's stream method\n",
    "stream = tweepy.Stream(auth=api.auth, listener=disaster_listener)\n",
    "\n",
    "# Filter Tweepy's stream object by Tweets about wildfires in the English language\n",
    "# This cell was only ran once to gather Tweets in real time and does not need to be ran again\n",
    "#stream.filter(track=['#wildfires'], languages=['en'])"
   ]
  },
  {
   "cell_type": "code",
   "execution_count": 8,
   "metadata": {},
   "outputs": [
    {
     "data": {
      "text/html": [
       "<div>\n",
       "<style scoped>\n",
       "    .dataframe tbody tr th:only-of-type {\n",
       "        vertical-align: middle;\n",
       "    }\n",
       "\n",
       "    .dataframe tbody tr th {\n",
       "        vertical-align: top;\n",
       "    }\n",
       "\n",
       "    .dataframe thead th {\n",
       "        text-align: right;\n",
       "    }\n",
       "</style>\n",
       "<table border=\"1\" class=\"dataframe\">\n",
       "  <thead>\n",
       "    <tr style=\"text-align: right;\">\n",
       "      <th></th>\n",
       "    </tr>\n",
       "  </thead>\n",
       "  <tbody>\n",
       "  </tbody>\n",
       "</table>\n",
       "</div>"
      ],
      "text/plain": [
       "Empty DataFrame\n",
       "Columns: []\n",
       "Index: []"
      ]
     },
     "execution_count": 8,
     "metadata": {},
     "output_type": "execute_result"
    }
   ],
   "source": [
    "# This cell had a meaningful output during data collection\n",
    "df.head()"
   ]
  },
  {
   "cell_type": "code",
   "execution_count": 11,
   "metadata": {},
   "outputs": [
    {
     "data": {
      "text/plain": [
       "(6261, 2)"
      ]
     },
     "execution_count": 11,
     "metadata": {},
     "output_type": "execute_result"
    }
   ],
   "source": [
    "df.shape"
   ]
  },
  {
   "cell_type": "code",
   "execution_count": 16,
   "metadata": {},
   "outputs": [],
   "source": [
    "# This code was ran for data collection and does not need to be ran again\n",
    "#df.to_csv('./data/firetweets.csv', index=False)"
   ]
  }
 ],
 "metadata": {
  "kernelspec": {
   "display_name": "Python 3",
   "language": "python",
   "name": "python3"
  },
  "language_info": {
   "codemirror_mode": {
    "name": "ipython",
    "version": 3
   },
   "file_extension": ".py",
   "mimetype": "text/x-python",
   "name": "python",
   "nbconvert_exporter": "python",
   "pygments_lexer": "ipython3",
   "version": "3.7.3"
  }
 },
 "nbformat": 4,
 "nbformat_minor": 2
}
