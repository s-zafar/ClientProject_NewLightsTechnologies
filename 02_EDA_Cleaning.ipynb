{
 "cells": [
  {
   "cell_type": "code",
   "execution_count": 21,
   "metadata": {},
   "outputs": [],
   "source": [
    "# Imports\n",
    "import pandas as pd\n",
    "from bs4 import BeautifulSoup\n",
    "import regex as re\n",
    "\n",
    "from nltk.tokenize import RegexpTokenizer\n",
    "import nltk as nltk\n",
    "from nltk.corpus import stopwords"
   ]
  },
  {
   "cell_type": "code",
   "execution_count": 22,
   "metadata": {},
   "outputs": [],
   "source": [
    "# Read in data scraped from Twitter\n",
    "firetweets = pd.read_csv('./data/firetweets.csv')"
   ]
  },
  {
   "cell_type": "code",
   "execution_count": 23,
   "metadata": {},
   "outputs": [],
   "source": [
    "# Read in data from CrisisLex.org\n",
    "tweets = pd.read_csv('./data/all_disaster_tweets.csv')"
   ]
  },
  {
   "cell_type": "code",
   "execution_count": 24,
   "metadata": {},
   "outputs": [
    {
     "data": {
      "text/plain": [
       "(6260, 2)"
      ]
     },
     "execution_count": 24,
     "metadata": {},
     "output_type": "execute_result"
    }
   ],
   "source": [
    "# Get shape of first DataFrame\n",
    "firetweets.shape"
   ]
  },
  {
   "cell_type": "code",
   "execution_count": 25,
   "metadata": {},
   "outputs": [
    {
     "data": {
      "text/plain": [
       "(27943, 2)"
      ]
     },
     "execution_count": 25,
     "metadata": {},
     "output_type": "execute_result"
    }
   ],
   "source": [
    "# Get shape of second DataFrame\n",
    "tweets.shape"
   ]
  },
  {
   "cell_type": "code",
   "execution_count": 26,
   "metadata": {},
   "outputs": [
    {
     "data": {
      "text/html": [
       "<div>\n",
       "<style scoped>\n",
       "    .dataframe tbody tr th:only-of-type {\n",
       "        vertical-align: middle;\n",
       "    }\n",
       "\n",
       "    .dataframe tbody tr th {\n",
       "        vertical-align: top;\n",
       "    }\n",
       "\n",
       "    .dataframe thead th {\n",
       "        text-align: right;\n",
       "    }\n",
       "</style>\n",
       "<table border=\"1\" class=\"dataframe\">\n",
       "  <thead>\n",
       "    <tr style=\"text-align: right;\">\n",
       "      <th></th>\n",
       "      <th>date_created</th>\n",
       "      <th>message</th>\n",
       "    </tr>\n",
       "  </thead>\n",
       "  <tbody>\n",
       "    <tr>\n",
       "      <td>0</td>\n",
       "      <td>2019-11-06 04:00:21</td>\n",
       "      <td>California #artist Danielle Nelisse paints #abstract landscape #paintings of #daniellenelisse #wildfires | thank yo… https://t.co/SZgfT1Yw25</td>\n",
       "    </tr>\n",
       "    <tr>\n",
       "      <td>1</td>\n",
       "      <td>2019-11-06 03:58:48</td>\n",
       "      <td>Many low income people lost their homes in Baja California. Goal here is to collect money to buy material so we can… https://t.co/myI6Fy2pI7</td>\n",
       "    </tr>\n",
       "    <tr>\n",
       "      <td>2</td>\n",
       "      <td>2019-11-06 03:58:37</td>\n",
       "      <td>RT @EpochTimes: “Get your act together Governor. You don’t see close to the level of burn in other states.”\\n\\nTrump renewed his threat to cu…</td>\n",
       "    </tr>\n",
       "    <tr>\n",
       "      <td>3</td>\n",
       "      <td>2019-11-06 03:57:50</td>\n",
       "      <td>RT @EpochTimes: “Get your act together Governor. You don’t see close to the level of burn in other states.”\\n\\nTrump renewed his threat to cu…</td>\n",
       "    </tr>\n",
       "    <tr>\n",
       "      <td>4</td>\n",
       "      <td>2019-11-06 03:54:22</td>\n",
       "      <td>Yikes\\nhttps://t.co/gs4D0VP4HH #wildfires #Africa</td>\n",
       "    </tr>\n",
       "  </tbody>\n",
       "</table>\n",
       "</div>"
      ],
      "text/plain": [
       "          date_created  \\\n",
       "0  2019-11-06 04:00:21   \n",
       "1  2019-11-06 03:58:48   \n",
       "2  2019-11-06 03:58:37   \n",
       "3  2019-11-06 03:57:50   \n",
       "4  2019-11-06 03:54:22   \n",
       "\n",
       "                                                                                                                                          message  \n",
       "0  California #artist Danielle Nelisse paints #abstract landscape #paintings of #daniellenelisse #wildfires | thank yo… https://t.co/SZgfT1Yw25    \n",
       "1  Many low income people lost their homes in Baja California. Goal here is to collect money to buy material so we can… https://t.co/myI6Fy2pI7    \n",
       "2  RT @EpochTimes: “Get your act together Governor. You don’t see close to the level of burn in other states.”\\n\\nTrump renewed his threat to cu…  \n",
       "3  RT @EpochTimes: “Get your act together Governor. You don’t see close to the level of burn in other states.”\\n\\nTrump renewed his threat to cu…  \n",
       "4  Yikes\\nhttps://t.co/gs4D0VP4HH #wildfires #Africa                                                                                               "
      ]
     },
     "execution_count": 26,
     "metadata": {},
     "output_type": "execute_result"
    }
   ],
   "source": [
    "# Show first few rows of tweets\n",
    "firetweets.head()"
   ]
  },
  {
   "cell_type": "code",
   "execution_count": 27,
   "metadata": {},
   "outputs": [],
   "source": [
    "# Get rid of the date column; The date column could be useful for those aiding in humanitarian efforts\n",
    "firetweets.drop('date_created', axis=1, inplace=True)"
   ]
  },
  {
   "cell_type": "code",
   "execution_count": 28,
   "metadata": {},
   "outputs": [],
   "source": [
    "# Rename column\n",
    "firetweets.rename({'message':'tweet text'}, axis=1, inplace=True)"
   ]
  },
  {
   "cell_type": "code",
   "execution_count": 29,
   "metadata": {},
   "outputs": [],
   "source": [
    "# Assign the 0 label to fires\n",
    "firetweets['disaster type'] = 0"
   ]
  },
  {
   "cell_type": "code",
   "execution_count": 30,
   "metadata": {},
   "outputs": [],
   "source": [
    "# Combine two data sources\n",
    "all_tweets = pd.concat([firetweets, tweets])"
   ]
  },
  {
   "cell_type": "code",
   "execution_count": 31,
   "metadata": {},
   "outputs": [
    {
     "data": {
      "text/plain": [
       "(34203, 2)"
      ]
     },
     "execution_count": 31,
     "metadata": {},
     "output_type": "execute_result"
    }
   ],
   "source": [
    "# New size\n",
    "all_tweets.shape"
   ]
  },
  {
   "cell_type": "code",
   "execution_count": 32,
   "metadata": {},
   "outputs": [
    {
     "data": {
      "text/plain": [
       "tweet text       object \n",
       "disaster type    float64\n",
       "dtype: object"
      ]
     },
     "execution_count": 32,
     "metadata": {},
     "output_type": "execute_result"
    }
   ],
   "source": [
    "# Data types are string and float\n",
    "all_tweets.dtypes"
   ]
  },
  {
   "cell_type": "code",
   "execution_count": 33,
   "metadata": {},
   "outputs": [],
   "source": [
    "# Convert date_created column to datetime possibly for visualization\n",
    "#tweets['date_created'] = pd.to_datetime(tweets['date_created'])"
   ]
  },
  {
   "cell_type": "code",
   "execution_count": 34,
   "metadata": {},
   "outputs": [],
   "source": [
    "# Re-used function from Project 3 that will clean DataFrame column\n",
    "def clean_text_column(df_column):\n",
    "    \n",
    "    words_list = []\n",
    "    \n",
    "    # Remove punctuation with the exception of hashtags; convert to lowercase\n",
    "    df_column = pd.Series([re.sub(\"[^a-zA-Z#]\", \" \", BeautifulSoup(text).get_text().lower()) for text in df_column])\n",
    "    \n",
    "    # Instantiate tokenizer\n",
    "    tokenizer = RegexpTokenizer('\\s+', gaps=True)\n",
    "    \n",
    "    # Tokenize each line of the series and append each line (less stopwords) to words_list\n",
    "    for line in df_column:\n",
    "        test = tokenizer.tokenize(line)\n",
    "        words_list.append(' '.join([word for word in test if word not in stopwords.words('english')]))\n",
    "    \n",
    "    # Return the cleaned pandas series\n",
    "    return pd.Series(words_list)"
   ]
  },
  {
   "cell_type": "code",
   "execution_count": 35,
   "metadata": {},
   "outputs": [
    {
     "data": {
      "text/plain": [
       "0    California #artist Danielle Nelisse paints #abstract landscape #paintings of #daniellenelisse #wildfires | thank yo… https://t.co/SZgfT1Yw25  \n",
       "1    Many low income people lost their homes in Baja California. Goal here is to collect money to buy material so we can… https://t.co/myI6Fy2pI7  \n",
       "2    RT @EpochTimes: “Get your act together Governor. You don’t see close to the level of burn in other states.”\\n\\nTrump renewed his threat to cu…\n",
       "3    RT @EpochTimes: “Get your act together Governor. You don’t see close to the level of burn in other states.”\\n\\nTrump renewed his threat to cu…\n",
       "4    Yikes\\nhttps://t.co/gs4D0VP4HH #wildfires #Africa                                                                                             \n",
       "5    RT @chooselovetoday: Community #Poll RE-TWEET #TheTruthCommunity #truthers #truth #WildFires #DirectedEnergyWeapons #HAARP #WeatherModifica…  \n",
       "6    RT @3MSafety: Many people are exposed to smoke and ash from #wildfires and want to use an N95 particulate respirator to help protect themse…  \n",
       "7    RT @StopTrump2020: Does this surprise anyone? #wildfires #PutinsPuppet https://t.co/hT9d5DoF8K                                                \n",
       "8    RT @Siemens_Energy: #Wildfires are intensifying globally. To prevent fires caused by power line failures, @PowercorAust and we came up with…  \n",
       "9    @SDSUGeography I definitely recommend watching the whole video - only 25 minutes and some great insights from the f… https://t.co/9kCVqUDPh6  \n",
       "Name: tweet text, dtype: object"
      ]
     },
     "execution_count": 35,
     "metadata": {},
     "output_type": "execute_result"
    }
   ],
   "source": [
    "# Check out the first 10 tweets\n",
    "pd.set_option('display.max_colwidth', -1)\n",
    "all_tweets['tweet text'].head(10)"
   ]
  },
  {
   "cell_type": "code",
   "execution_count": 37,
   "metadata": {},
   "outputs": [
    {
     "data": {
      "text/plain": [
       "tweet text       0 \n",
       "disaster type    10\n",
       "dtype: int64"
      ]
     },
     "execution_count": 37,
     "metadata": {},
     "output_type": "execute_result"
    }
   ],
   "source": [
    "# Check null values\n",
    "all_tweets.isnull().sum()"
   ]
  },
  {
   "cell_type": "code",
   "execution_count": 38,
   "metadata": {},
   "outputs": [],
   "source": [
    "# Drop locations with null values\n",
    "all_tweets.dropna(inplace=True)"
   ]
  },
  {
   "cell_type": "code",
   "execution_count": 39,
   "metadata": {},
   "outputs": [
    {
     "data": {
      "text/plain": [
       "0        california #artist danielle nelisse paints #abstract landscape #paintings #daniellenelisse #wildfires thank yo https co szgft yw\n",
       "1        many low income people lost homes baja california goal collect money buy material https co myi fy pi                            \n",
       "2        rt epochtimes get act together governor see close level burn states trump renewed threat cu                                     \n",
       "3        rt epochtimes get act together governor see close level burn states trump renewed threat cu                                     \n",
       "4        yikes https co gs vp hh #wildfires #africa                                                                                      \n",
       "                            ...                                                                                                          \n",
       "34188    donations queensland flood appeal fall short expectations http co gyfdbazq                                                      \n",
       "34189    emergency payments flood victims qld start immediately app forms available tomorrow http co ncor cae                            \n",
       "34190    #qldpol #auspol tennewsqld qld flood appeal committee desperate plea big business donations http co jx v                        \n",
       "34191    new post heatwaves flooding january declared hottest month record australia http co scfrwcvw                                    \n",
       "34192    qld discuss flood funding ludwig federal queensland governments expected get ball ro http co zcaaquxa                           \n",
       "Length: 34193, dtype: object"
      ]
     },
     "execution_count": 39,
     "metadata": {},
     "output_type": "execute_result"
    }
   ],
   "source": [
    "# Clean the Tweet messages\n",
    "clean_text_column(all_tweets['tweet text'])"
   ]
  },
  {
   "cell_type": "code",
   "execution_count": 40,
   "metadata": {},
   "outputs": [
    {
     "data": {
      "text/plain": [
       "0       california #artist danielle nelisse paints #abstract landscape #paintings #daniellenelisse #wildfires thank yo https co szgft yw\n",
       "1       many low income people lost homes baja california goal collect money buy material https co myi fy pi                            \n",
       "2       rt epochtimes get act together governor see close level burn states trump renewed threat cu                                     \n",
       "3       rt epochtimes get act together governor see close level burn states trump renewed threat cu                                     \n",
       "4       yikes https co gs vp hh #wildfires #africa                                                                                      \n",
       "                           ...                                                                                                          \n",
       "6255    rt chalicegarden urgent horse trailer please help animals sos need evac enough trailers barbi twins revengebunny                \n",
       "6256    rt ladailynews sullikevphoto find coverage #wildfires #santaanawinds #redflagwarnings #poweroutag                               \n",
       "6257    rt ahmalcolm california #wildfires near reagan presidential library wally skalij https co uhy mpq vq                            \n",
       "6258    california #wildfires near reagan presidential library wally skalij https co uhy mpq vq                                         \n",
       "6259    rt rsfirenerd #evacuation updates #kincadefire #cafires #wildfires #sonomacounty https co itxlifk ci                            \n",
       "Length: 6260, dtype: object"
      ]
     },
     "execution_count": 40,
     "metadata": {},
     "output_type": "execute_result"
    }
   ],
   "source": [
    "# Clean the firetweets\n",
    "clean_text_column(firetweets['tweet text'])"
   ]
  },
  {
   "cell_type": "code",
   "execution_count": 41,
   "metadata": {},
   "outputs": [],
   "source": [
    "# Overwrite original thread title words with relevant words only\n",
    "tweets['tweet text'] = clean_text_column(tweets['tweet text'])"
   ]
  },
  {
   "cell_type": "code",
   "execution_count": 42,
   "metadata": {},
   "outputs": [],
   "source": [
    "# Overwrite original thread title words with relevant words only; more on this in the preprocessing and visualizations step\n",
    "firetweets['tweet text'] = clean_text_column(firetweets['tweet text'])"
   ]
  },
  {
   "cell_type": "code",
   "execution_count": 43,
   "metadata": {},
   "outputs": [
    {
     "data": {
      "text/html": [
       "<div>\n",
       "<style scoped>\n",
       "    .dataframe tbody tr th:only-of-type {\n",
       "        vertical-align: middle;\n",
       "    }\n",
       "\n",
       "    .dataframe tbody tr th {\n",
       "        vertical-align: top;\n",
       "    }\n",
       "\n",
       "    .dataframe thead th {\n",
       "        text-align: right;\n",
       "    }\n",
       "</style>\n",
       "<table border=\"1\" class=\"dataframe\">\n",
       "  <thead>\n",
       "    <tr style=\"text-align: right;\">\n",
       "      <th></th>\n",
       "      <th>tweet text</th>\n",
       "      <th>disaster type</th>\n",
       "    </tr>\n",
       "  </thead>\n",
       "  <tbody>\n",
       "    <tr>\n",
       "      <td>0</td>\n",
       "      <td>California #artist Danielle Nelisse paints #abstract landscape #paintings of #daniellenelisse #wildfires | thank yo… https://t.co/SZgfT1Yw25</td>\n",
       "      <td>0.0</td>\n",
       "    </tr>\n",
       "    <tr>\n",
       "      <td>1</td>\n",
       "      <td>Many low income people lost their homes in Baja California. Goal here is to collect money to buy material so we can… https://t.co/myI6Fy2pI7</td>\n",
       "      <td>0.0</td>\n",
       "    </tr>\n",
       "    <tr>\n",
       "      <td>2</td>\n",
       "      <td>RT @EpochTimes: “Get your act together Governor. You don’t see close to the level of burn in other states.”\\n\\nTrump renewed his threat to cu…</td>\n",
       "      <td>0.0</td>\n",
       "    </tr>\n",
       "    <tr>\n",
       "      <td>3</td>\n",
       "      <td>RT @EpochTimes: “Get your act together Governor. You don’t see close to the level of burn in other states.”\\n\\nTrump renewed his threat to cu…</td>\n",
       "      <td>0.0</td>\n",
       "    </tr>\n",
       "    <tr>\n",
       "      <td>4</td>\n",
       "      <td>Yikes\\nhttps://t.co/gs4D0VP4HH #wildfires #Africa</td>\n",
       "      <td>0.0</td>\n",
       "    </tr>\n",
       "  </tbody>\n",
       "</table>\n",
       "</div>"
      ],
      "text/plain": [
       "                                                                                                                                       tweet text  \\\n",
       "0  California #artist Danielle Nelisse paints #abstract landscape #paintings of #daniellenelisse #wildfires | thank yo… https://t.co/SZgfT1Yw25     \n",
       "1  Many low income people lost their homes in Baja California. Goal here is to collect money to buy material so we can… https://t.co/myI6Fy2pI7     \n",
       "2  RT @EpochTimes: “Get your act together Governor. You don’t see close to the level of burn in other states.”\\n\\nTrump renewed his threat to cu…   \n",
       "3  RT @EpochTimes: “Get your act together Governor. You don’t see close to the level of burn in other states.”\\n\\nTrump renewed his threat to cu…   \n",
       "4  Yikes\\nhttps://t.co/gs4D0VP4HH #wildfires #Africa                                                                                                \n",
       "\n",
       "   disaster type  \n",
       "0  0.0            \n",
       "1  0.0            \n",
       "2  0.0            \n",
       "3  0.0            \n",
       "4  0.0            "
      ]
     },
     "execution_count": 43,
     "metadata": {},
     "output_type": "execute_result"
    }
   ],
   "source": [
    "# Show cleaned data\n",
    "all_tweets.head()"
   ]
  },
  {
   "cell_type": "code",
   "execution_count": 44,
   "metadata": {},
   "outputs": [
    {
     "data": {
      "text/plain": [
       "tweet text       object \n",
       "disaster type    float64\n",
       "dtype: object"
      ]
     },
     "execution_count": 44,
     "metadata": {},
     "output_type": "execute_result"
    }
   ],
   "source": [
    "# Check data types again\n",
    "all_tweets.dtypes"
   ]
  },
  {
   "cell_type": "code",
   "execution_count": 45,
   "metadata": {},
   "outputs": [],
   "source": [
    "# Change the disaster type column to an integer to prepare for model preparation\n",
    "all_tweets['disaster type'] = all_tweets['disaster type'].astype(int)"
   ]
  },
  {
   "cell_type": "code",
   "execution_count": 46,
   "metadata": {},
   "outputs": [],
   "source": [
    "# Create .csv file for cleaned data\n",
    "all_tweets.to_csv('./data/clean.csv', index=False)"
   ]
  },
  {
   "cell_type": "code",
   "execution_count": 47,
   "metadata": {},
   "outputs": [],
   "source": [
    "# Create .csv file for cleaned data\n",
    "firetweets.to_csv('./data/firetweets_clean.csv', index=False)"
   ]
  }
 ],
 "metadata": {
  "kernelspec": {
   "display_name": "Python 3",
   "language": "python",
   "name": "python3"
  },
  "language_info": {
   "codemirror_mode": {
    "name": "ipython",
    "version": 3
   },
   "file_extension": ".py",
   "mimetype": "text/x-python",
   "name": "python",
   "nbconvert_exporter": "python",
   "pygments_lexer": "ipython3",
   "version": "3.7.3"
  }
 },
 "nbformat": 4,
 "nbformat_minor": 2
}
